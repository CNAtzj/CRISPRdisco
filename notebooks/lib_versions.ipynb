{
 "cells": [
  {
   "cell_type": "code",
   "execution_count": 1,
   "metadata": {
    "collapsed": false,
    "deletable": true,
    "editable": true
   },
   "outputs": [
    {
     "data": {
      "text/plain": [
       "sys.version_info(major=2, minor=7, micro=12, releaselevel='final', serial=0)"
      ]
     },
     "execution_count": 1,
     "metadata": {},
     "output_type": "execute_result"
    }
   ],
   "source": [
    "#python 2.7\n",
    "import sys\n",
    "sys.version_info"
   ]
  },
  {
   "cell_type": "code",
   "execution_count": 2,
   "metadata": {
    "collapsed": false
   },
   "outputs": [
    {
     "ename": "AttributeError",
     "evalue": "'module' object has no attribute '__version__'",
     "output_type": "error",
     "traceback": [
      "\u001b[1;31m\u001b[0m",
      "\u001b[1;31mAttributeError\u001b[0mTraceback (most recent call last)",
      "\u001b[1;32m<ipython-input-2-0c60b9f04f73>\u001b[0m in \u001b[0;36m<module>\u001b[1;34m()\u001b[0m\n\u001b[0;32m      1\u001b[0m \u001b[1;32mimport\u001b[0m \u001b[0mcrawler\u001b[0m\u001b[1;33m\u001b[0m\u001b[0m\n\u001b[1;32m----> 2\u001b[1;33m \u001b[1;32mprint\u001b[0m \u001b[0mcrawler\u001b[0m\u001b[1;33m.\u001b[0m\u001b[0m__version__\u001b[0m\u001b[1;33m\u001b[0m\u001b[0m\n\u001b[0m",
      "\u001b[1;31mAttributeError\u001b[0m: 'module' object has no attribute '__version__'"
     ]
    }
   ],
   "source": [
    "import crawler\n",
    "print crawler.__version__"
   ]
  },
  {
   "cell_type": "code",
   "execution_count": 3,
   "metadata": {
    "collapsed": false
   },
   "outputs": [
    {
     "name": "stdout",
     "output_type": "stream",
     "text": [
      "\n",
      "crawler, version 0.1\n",
      "(C) AgBiome, Inc., All rights reserved\n",
      "Alexandra Crawley, 2017\n",
      "Identify CRISPR-Cas systems in bacteria and archaeal genomes.\n",
      "\n",
      "\n",
      "crawler, version 0.1\n",
      "(C) AgBiome, Inc., All rights reserved\n",
      "Alexandra Crawley, 2017\n",
      "Identify CRISPR-Cas systems in bacteria and archaeal genomes.\n",
      "\n",
      "0.1\n"
     ]
    }
   ],
   "source": [
    "from crawler.cli import script\n",
    "print script.description\n",
    "print script.__version__"
   ]
  },
  {
   "cell_type": "code",
   "execution_count": 4,
   "metadata": {
    "collapsed": false
   },
   "outputs": [
    {
     "data": {
      "text/plain": [
       "{'__builtins__': {'ArithmeticError': ArithmeticError,\n",
       "  'AssertionError': AssertionError,\n",
       "  'AttributeError': AttributeError,\n",
       "  'BaseException': BaseException,\n",
       "  'BufferError': BufferError,\n",
       "  'BytesWarning': BytesWarning,\n",
       "  'DeprecationWarning': DeprecationWarning,\n",
       "  'EOFError': EOFError,\n",
       "  'Ellipsis': Ellipsis,\n",
       "  'EnvironmentError': EnvironmentError,\n",
       "  'Exception': Exception,\n",
       "  'False': False,\n",
       "  'FloatingPointError': FloatingPointError,\n",
       "  'FutureWarning': FutureWarning,\n",
       "  'GeneratorExit': GeneratorExit,\n",
       "  'IOError': IOError,\n",
       "  'ImportError': ImportError,\n",
       "  'ImportWarning': ImportWarning,\n",
       "  'IndentationError': IndentationError,\n",
       "  'IndexError': IndexError,\n",
       "  'KeyError': KeyError,\n",
       "  'KeyboardInterrupt': KeyboardInterrupt,\n",
       "  'LookupError': LookupError,\n",
       "  'MemoryError': MemoryError,\n",
       "  'NameError': NameError,\n",
       "  'None': None,\n",
       "  'NotImplemented': NotImplemented,\n",
       "  'NotImplementedError': NotImplementedError,\n",
       "  'OSError': OSError,\n",
       "  'OverflowError': OverflowError,\n",
       "  'PendingDeprecationWarning': PendingDeprecationWarning,\n",
       "  'ReferenceError': ReferenceError,\n",
       "  'RuntimeError': RuntimeError,\n",
       "  'RuntimeWarning': RuntimeWarning,\n",
       "  'StandardError': StandardError,\n",
       "  'StopIteration': StopIteration,\n",
       "  'SyntaxError': SyntaxError,\n",
       "  'SyntaxWarning': SyntaxWarning,\n",
       "  'SystemError': SystemError,\n",
       "  'SystemExit': SystemExit,\n",
       "  'TabError': TabError,\n",
       "  'True': True,\n",
       "  'TypeError': TypeError,\n",
       "  'UnboundLocalError': UnboundLocalError,\n",
       "  'UnicodeDecodeError': UnicodeDecodeError,\n",
       "  'UnicodeEncodeError': UnicodeEncodeError,\n",
       "  'UnicodeError': UnicodeError,\n",
       "  'UnicodeTranslateError': UnicodeTranslateError,\n",
       "  'UnicodeWarning': UnicodeWarning,\n",
       "  'UserWarning': UserWarning,\n",
       "  'ValueError': ValueError,\n",
       "  'Warning': Warning,\n",
       "  'ZeroDivisionError': ZeroDivisionError,\n",
       "  '__IPYTHON__': True,\n",
       "  '__IPYTHON__active': 'Deprecated, check for __IPYTHON__',\n",
       "  '__debug__': True,\n",
       "  '__doc__': \"Built-in functions, exceptions, and other objects.\\n\\nNoteworthy: None is the `nil' object; Ellipsis represents `...' in slices.\",\n",
       "  '__import__': <function __import__>,\n",
       "  '__name__': '__builtin__',\n",
       "  '__package__': None,\n",
       "  'abs': <function abs>,\n",
       "  'all': <function all>,\n",
       "  'any': <function any>,\n",
       "  'apply': <function apply>,\n",
       "  'basestring': basestring,\n",
       "  'bin': <function bin>,\n",
       "  'bool': bool,\n",
       "  'buffer': buffer,\n",
       "  'bytearray': bytearray,\n",
       "  'bytes': str,\n",
       "  'callable': <function callable>,\n",
       "  'chr': <function chr>,\n",
       "  'classmethod': classmethod,\n",
       "  'cmp': <function cmp>,\n",
       "  'coerce': <function coerce>,\n",
       "  'compile': <function compile>,\n",
       "  'complex': complex,\n",
       "  'copyright': Copyright (c) 2001-2016 Python Software Foundation.\n",
       "  All Rights Reserved.\n",
       "  \n",
       "  Copyright (c) 2000 BeOpen.com.\n",
       "  All Rights Reserved.\n",
       "  \n",
       "  Copyright (c) 1995-2001 Corporation for National Research Initiatives.\n",
       "  All Rights Reserved.\n",
       "  \n",
       "  Copyright (c) 1991-1995 Stichting Mathematisch Centrum, Amsterdam.\n",
       "  All Rights Reserved.,\n",
       "  'credits':     Thanks to CWI, CNRI, BeOpen.com, Zope Corporation and a cast of thousands\n",
       "      for supporting Python development.  See www.python.org for more information.,\n",
       "  'delattr': <function delattr>,\n",
       "  'dict': dict,\n",
       "  'dir': <function dir>,\n",
       "  'divmod': <function divmod>,\n",
       "  'dreload': <function IPython.lib.deepreload._dreload>,\n",
       "  'enumerate': enumerate,\n",
       "  'eval': <function eval>,\n",
       "  'execfile': <function execfile>,\n",
       "  'file': file,\n",
       "  'filter': <function filter>,\n",
       "  'float': float,\n",
       "  'format': <function format>,\n",
       "  'frozenset': frozenset,\n",
       "  'get_ipython': <bound method ZMQInteractiveShell.get_ipython of <ipykernel.zmqshell.ZMQInteractiveShell object at 0x7f419d7e2a10>>,\n",
       "  'getattr': <function getattr>,\n",
       "  'globals': <function globals>,\n",
       "  'hasattr': <function hasattr>,\n",
       "  'hash': <function hash>,\n",
       "  'help': Type help() for interactive help, or help(object) for help about object.,\n",
       "  'hex': <function hex>,\n",
       "  'id': <function id>,\n",
       "  'input': <function ipykernel.ipkernel.<lambda>>,\n",
       "  'int': int,\n",
       "  'intern': <function intern>,\n",
       "  'isinstance': <function isinstance>,\n",
       "  'issubclass': <function issubclass>,\n",
       "  'iter': <function iter>,\n",
       "  'len': <function len>,\n",
       "  'license': Type license() to see the full license text,\n",
       "  'list': list,\n",
       "  'locals': <function locals>,\n",
       "  'long': long,\n",
       "  'map': <function map>,\n",
       "  'max': <function max>,\n",
       "  'memoryview': memoryview,\n",
       "  'min': <function min>,\n",
       "  'next': <function next>,\n",
       "  'object': object,\n",
       "  'oct': <function oct>,\n",
       "  'open': <function open>,\n",
       "  'ord': <function ord>,\n",
       "  'pow': <function pow>,\n",
       "  'print': <function print>,\n",
       "  'property': property,\n",
       "  'range': <function range>,\n",
       "  'raw_input': <bound method IPythonKernel.raw_input of <ipykernel.ipkernel.IPythonKernel object at 0x7f419d7a3510>>,\n",
       "  'reduce': <function reduce>,\n",
       "  'reload': <function reload>,\n",
       "  'repr': <function repr>,\n",
       "  'reversed': reversed,\n",
       "  'round': <function round>,\n",
       "  'set': set,\n",
       "  'setattr': <function setattr>,\n",
       "  'slice': slice,\n",
       "  'sorted': <function sorted>,\n",
       "  'staticmethod': staticmethod,\n",
       "  'str': str,\n",
       "  'sum': <function sum>,\n",
       "  'super': super,\n",
       "  'tuple': tuple,\n",
       "  'type': type,\n",
       "  'unichr': <function unichr>,\n",
       "  'unicode': unicode,\n",
       "  'vars': <function vars>,\n",
       "  'xrange': xrange,\n",
       "  'zip': <function zip>},\n",
       " '__doc__': None,\n",
       " '__file__': '/opt/app/crawler/__init__.py',\n",
       " '__name__': 'crawler',\n",
       " '__package__': 'crawler',\n",
       " '__path__': ['/opt/app/crawler'],\n",
       " 'casPROTidentification': <module 'crawler.casPROTidentification' from '/opt/app/crawler/casPROTidentification.py'>,\n",
       " 'cli': <module 'crawler.cli' from '/opt/app/crawler/cli/__init__.py'>,\n",
       " 'generateMasterTbl': <module 'crawler.generateMasterTbl' from '/opt/app/crawler/generateMasterTbl.py'>,\n",
       " 'getCRISPRrepeats': <module 'crawler.getCRISPRrepeats' from '/opt/app/crawler/getCRISPRrepeats.py'>}"
      ]
     },
     "execution_count": 4,
     "metadata": {},
     "output_type": "execute_result"
    }
   ],
   "source": [
    "import crawler as c\n",
    "c.__dict__"
   ]
  },
  {
   "cell_type": "code",
   "execution_count": 5,
   "metadata": {
    "collapsed": true,
    "deletable": true,
    "editable": true
   },
   "outputs": [],
   "source": [
    "#other libraries avaliable\n",
    "import  pandas, numpy, seaborn, matplotlib, matplotlib.colors, Bio"
   ]
  },
  {
   "cell_type": "code",
   "execution_count": 6,
   "metadata": {
    "collapsed": true
   },
   "outputs": [],
   "source": [
    "# some utilities avaliable"
   ]
  },
  {
   "cell_type": "code",
   "execution_count": 7,
   "metadata": {
    "collapsed": false
   },
   "outputs": [
    {
     "name": "stdout",
     "output_type": "stream",
     "text": [
      "USAGE\r\n",
      "  blastp [-h] [-help] [-import_search_strategy filename]\r\n",
      "    [-export_search_strategy filename] [-task task_name] [-db database_name]\r\n",
      "    [-dbsize num_letters] [-gilist filename] [-seqidlist filename]\r\n",
      "    [-negative_gilist filename] [-entrez_query entrez_query]\r\n",
      "    [-db_soft_mask filtering_algorithm] [-db_hard_mask filtering_algorithm]\r\n",
      "    [-subject subject_input_file] [-subject_loc range] [-query input_file]\r\n",
      "    [-out output_file] [-evalue evalue] [-word_size int_value]\r\n",
      "    [-gapopen open_penalty] [-gapextend extend_penalty]\r\n",
      "    [-qcov_hsp_perc float_value] [-max_hsps int_value]\r\n",
      "    [-xdrop_ungap float_value] [-xdrop_gap float_value]\r\n",
      "    [-xdrop_gap_final float_value] [-searchsp int_value]\r\n",
      "    [-sum_stats bool_value] [-seg SEG_options] [-soft_masking soft_masking]\r\n",
      "    [-matrix matrix_name] [-threshold float_value] [-culling_limit int_value]\r\n",
      "    [-best_hit_overhang float_value] [-best_hit_score_edge float_value]\r\n",
      "    [-window_size int_value] [-lcase_masking] [-query_loc range]\r\n",
      "    [-parse_deflines] [-outfmt format] [-show_gis]\r\n",
      "    [-num_descriptions int_value] [-num_alignments int_value]\r\n",
      "    [-line_length line_length] [-html] [-max_target_seqs num_sequences]\r\n",
      "    [-num_threads int_value] [-ungapped] [-remote] [-comp_based_stats compo]\r\n",
      "    [-use_sw_tback] [-version]\r\n",
      "\r\n",
      "DESCRIPTION\r\n",
      "   Protein-Protein BLAST 2.6.0+\r\n",
      "\r\n",
      "Use '-help' to print detailed descriptions of command line arguments\r\n"
     ]
    }
   ],
   "source": [
    "!blastp -h"
   ]
  },
  {
   "cell_type": "code",
   "execution_count": 8,
   "metadata": {
    "collapsed": false
   },
   "outputs": [
    {
     "name": "stdout",
     "output_type": "stream",
     "text": [
      "# hmmscan :: search sequence(s) against a profile database\r\n",
      "# HMMER 3.1b2 (February 2015); http://hmmer.org/\r\n",
      "# Copyright (C) 2015 Howard Hughes Medical Institute.\r\n",
      "# Freely distributed under the GNU General Public License (GPLv3).\r\n",
      "# - - - - - - - - - - - - - - - - - - - - - - - - - - - - - - - - - - - -\r\n",
      "Usage: hmmscan [-options] <hmmdb> <seqfile>\r\n",
      "\r\n",
      "Basic options:\r\n",
      "  -h : show brief help on version and usage\r\n",
      "\r\n",
      "Options controlling output:\r\n",
      "  -o <f>           : direct output to file <f>, not stdout\r\n",
      "  --tblout <f>     : save parseable table of per-sequence hits to file <f>\r\n",
      "  --domtblout <f>  : save parseable table of per-domain hits to file <f>\r\n",
      "  --pfamtblout <f> : save table of hits and domains to file, in Pfam format <f>\r\n",
      "  --acc            : prefer accessions over names in output\r\n",
      "  --noali          : don't output alignments, so output is smaller\r\n",
      "  --notextw        : unlimit ASCII text output line width\r\n",
      "  --textw <n>      : set max width of ASCII text output lines  [120]  (n>=120)\r\n",
      "\r\n",
      "Options controlling reporting thresholds:\r\n",
      "  -E <x>     : report models <= this E-value threshold in output  [10.0]  (x>0)\r\n",
      "  -T <x>     : report models >= this score threshold in output\r\n",
      "  --domE <x> : report domains <= this E-value threshold in output  [10.0]  (x>0)\r\n",
      "  --domT <x> : report domains >= this score cutoff in output\r\n",
      "\r\n",
      "Options controlling inclusion (significance) thresholds:\r\n",
      "  --incE <x>    : consider models <= this E-value threshold as significant\r\n",
      "  --incT <x>    : consider models >= this score threshold as significant\r\n",
      "  --incdomE <x> : consider domains <= this E-value threshold as significant\r\n",
      "  --incdomT <x> : consider domains >= this score threshold as significant\r\n",
      "\r\n",
      "Options for model-specific thresholding:\r\n",
      "  --cut_ga : use profile's GA gathering cutoffs to set all thresholding\r\n",
      "  --cut_nc : use profile's NC noise cutoffs to set all thresholding\r\n",
      "  --cut_tc : use profile's TC trusted cutoffs to set all thresholding\r\n",
      "\r\n",
      "Options controlling acceleration heuristics:\r\n",
      "  --max    : Turn all heuristic filters off (less speed, more power)\r\n",
      "  --F1 <x> : MSV threshold: promote hits w/ P <= F1  [0.02]\r\n",
      "  --F2 <x> : Vit threshold: promote hits w/ P <= F2  [1e-3]\r\n",
      "  --F3 <x> : Fwd threshold: promote hits w/ P <= F3  [1e-5]\r\n",
      "  --nobias : turn off composition bias filter\r\n",
      "\r\n",
      "Other expert options:\r\n",
      "  --nonull2     : turn off biased composition score corrections\r\n",
      "  -Z <x>        : set # of comparisons done, for E-value calculation\r\n",
      "  --domZ <x>    : set # of significant seqs, for domain E-value calculation\r\n",
      "  --seed <n>    : set RNG seed to <n> (if 0: one-time arbitrary seed)  [42]\r\n",
      "  --qformat <s> : assert input <seqfile> is in format <s>: no autodetection\r\n",
      "  --daemon      : run program as a daemon\r\n",
      "  --cpu <n>     : number of parallel CPU workers to use for multithreads\r\n"
     ]
    }
   ],
   "source": [
    "!hmmscan -h"
   ]
  },
  {
   "cell_type": "code",
   "execution_count": 9,
   "metadata": {
    "collapsed": false
   },
   "outputs": [
    {
     "name": "stdout",
     "output_type": "stream",
     "text": [
      "MinCED, a program to find CRISPRs in shotgun DNA sequences or full genomes\n",
      "\n",
      "Usage:    minced [options] file.fa [outputFile]\n",
      "\n",
      "Options:  -searchWL  Length of search window used to discover CRISPRs (range: 6-9). Default: 8\n",
      "          -minNR     Minimum number of repeats a CRISPR must contain. Default: 3\n",
      "          -minRL     Minimum length of the CRISPR repeats. Default: 23\n",
      "          -maxRL     Maximum length of the CRISPR repeats. Default: 47\n",
      "          -minSL     Minimum length of the CRISPR spacers. Default: 26\n",
      "          -maxSL     Maximum length of the CRISPR spacers. Default: 50\n",
      "          -gff       Output summary results in gff format containing\n",
      "                     only the positions of the CRISPR arrays. Default: false\n",
      "          -gffFull   Output detailed results in gff format containing\n",
      "                     positions of CRISPR arrays and all repeat units. Default: false\n",
      "          -spacers   Output a fasta formatted file containing the spacers. Default: false\n",
      "          -h --help  Output this handy help message\n",
      "          --version  Output version information\n",
      "\n",
      "Examples: minced ecoli.fna\n",
      "          minced -minNR 2 metagenome.fna\n",
      "          minced -minNR 2 metagenome.fna metagenome.crisprs\n",
      "\n",
      "minced 0.2.0\n",
      "MinCED - Mining CRISPRs in Environmental Datasets (version 0.2.0)\n",
      "Copyright 2011      Florent Angly     <florent.angly@gmail.com>\n",
      "          2013-2015 Connor Skennerton <c.skennerton@gmail.com>\n",
      "\n",
      "Minced is a modified version of CRT (www.room220.com/crt)\n",
      "Charles Bland et al., CRISPR Recognition Tool (CRT): a tool for automatic\n",
      "detection of clustered regularly interspaced palindromic repeats\n",
      "BMC Bioinformatics 8, no. 1 (2007): 209.\n",
      "Distributed under the GNU General Public License version 3\n"
     ]
    }
   ],
   "source": [
    "!minced -h\n",
    "!minced --version"
   ]
  },
  {
   "cell_type": "code",
   "execution_count": null,
   "metadata": {
    "collapsed": true
   },
   "outputs": [],
   "source": []
  },
  {
   "cell_type": "code",
   "execution_count": null,
   "metadata": {
    "collapsed": true
   },
   "outputs": [],
   "source": []
  }
 ],
 "metadata": {
  "kernelspec": {
   "display_name": "Python 2",
   "language": "python",
   "name": "python2"
  },
  "language_info": {
   "codemirror_mode": {
    "name": "ipython",
    "version": 2
   },
   "file_extension": ".py",
   "mimetype": "text/x-python",
   "name": "python",
   "nbconvert_exporter": "python",
   "pygments_lexer": "ipython2",
   "version": "2.7.12"
  }
 },
 "nbformat": 4,
 "nbformat_minor": 2
}
